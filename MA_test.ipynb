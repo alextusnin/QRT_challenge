{
 "cells": [
  {
   "cell_type": "code",
   "execution_count": 72,
   "id": "f25be886-f88d-4863-9b67-f56234530ea3",
   "metadata": {},
   "outputs": [],
   "source": [
    "import seaborn as sns\n",
    "import numpy as np\n",
    "import pandas as pd\n",
    "import matplotlib.pyplot as plt\n",
    "from scipy.optimize import minimize"
   ]
  },
  {
   "cell_type": "code",
   "execution_count": 107,
   "id": "628ed969-61b4-4a04-93a4-923453c46e13",
   "metadata": {},
   "outputs": [],
   "source": [
    "def MA(X, mu, theta, order):\n",
    "    T = len(X)\n",
    "\n",
    "    res = np.zeros(T)\n",
    "    eps = X - mu\n",
    "\n",
    "    for t in range(T):\n",
    "        if t < order:\n",
    "            res[t] = mu + eps[t]\n",
    "        else:\n",
    "            res[t] = mu + np.dot(theta,eps[t-order:t][::-1])\n",
    "    return res"
   ]
  },
  {
   "cell_type": "code",
   "execution_count": 108,
   "id": "37378c6c-660b-47cb-b1f7-88321501a9be",
   "metadata": {},
   "outputs": [],
   "source": [
    "def ma_neg_log_likelihood(params, X, order):\n",
    "    mu = params[0]\n",
    "    theta = params[1:order+1]\n",
    "    sigma2 = params[-1]**2\n",
    "\n",
    "    T = len(X)\n",
    "    eps = np.zeros(T)\n",
    "\n",
    "    \n",
    "    \n",
    "    for t in range(T):\n",
    "        if t < order:\n",
    "            eps[t] = X[t] - mu\n",
    "        else:\n",
    "            \n",
    "            \n",
    "            eps[t] = X[t] - mu - np.dot(theta,eps[t-order:t][::-1])\n",
    "        \n",
    "    nll = T/2*np.log(2*np.pi*sigma2) + 1/2/sigma2*np.sum(eps**2)\n",
    "\n",
    "    return nll"
   ]
  },
  {
   "cell_type": "code",
   "execution_count": 97,
   "id": "4f7dc9f3-7ad6-4320-aa3b-e71691af6f44",
   "metadata": {},
   "outputs": [],
   "source": [
    "def fit_ma_model(X, order):\n",
    "    mu_seed = np.mean(X)\n",
    "    sigma_seed = np.std(X)\n",
    "    rng = np.random.default_rng(seed=42)\n",
    "    theta_seed = rng.random(size=order)*0.1\n",
    "\n",
    "    params_init = np.concatenate(([mu_seed], theta_seed, [sigma_seed]))\n",
    "\n",
    "    params_bounds = [(-1e2, 1e2)] * (order + 1) + [(1e-7, np.inf)]\n",
    "    #print(params_init)\n",
    "    result = minimize(ma_neg_log_likelihood,\n",
    "                      params_init,\n",
    "                      bounds = params_bounds,\n",
    "                      args=(X,order),\n",
    "                       method='L-BFGS-B')\n",
    "    return result.x[0], result.x[1:order+1], result.x[-1]\n",
    "    \n",
    "    "
   ]
  },
  {
   "cell_type": "code",
   "execution_count": 5,
   "id": "d2332a33-5be8-4d37-805b-4426bb0af273",
   "metadata": {},
   "outputs": [],
   "source": [
    "x_train = pd.read_csv('./x_train.csv', index_col='ID')\n",
    "y_train = pd.read_csv('./y_train.csv', index_col='ID')\n",
    "train = pd.concat([x_train, y_train], axis=1).dropna()\n",
    "test = pd.read_csv('./x_test.csv', index_col='ID').dropna()"
   ]
  },
  {
   "cell_type": "code",
   "execution_count": 6,
   "id": "553b37ad-df9a-4c35-bd1f-2a878e7ea287",
   "metadata": {},
   "outputs": [],
   "source": [
    "series = x_train[x_train['DATE']==0]\n",
    "series = series[series['STOCK']==2]\n",
    "cols_idx = ['RET_%i' % i for i in range(1,21)]\n",
    "series = series[cols_idx]"
   ]
  },
  {
   "cell_type": "code",
   "execution_count": 7,
   "id": "d99c723b-9d9b-4d72-a004-73b0b26d05ea",
   "metadata": {},
   "outputs": [
    {
     "data": {
      "text/html": [
       "<div>\n",
       "<style scoped>\n",
       "    .dataframe tbody tr th:only-of-type {\n",
       "        vertical-align: middle;\n",
       "    }\n",
       "\n",
       "    .dataframe tbody tr th {\n",
       "        vertical-align: top;\n",
       "    }\n",
       "\n",
       "    .dataframe thead th {\n",
       "        text-align: right;\n",
       "    }\n",
       "</style>\n",
       "<table border=\"1\" class=\"dataframe\">\n",
       "  <thead>\n",
       "    <tr style=\"text-align: right;\">\n",
       "      <th></th>\n",
       "      <th>RET_1</th>\n",
       "      <th>RET_2</th>\n",
       "      <th>RET_3</th>\n",
       "      <th>RET_4</th>\n",
       "      <th>RET_5</th>\n",
       "      <th>RET_6</th>\n",
       "      <th>RET_7</th>\n",
       "      <th>RET_8</th>\n",
       "      <th>RET_9</th>\n",
       "      <th>RET_10</th>\n",
       "      <th>RET_11</th>\n",
       "      <th>RET_12</th>\n",
       "      <th>RET_13</th>\n",
       "      <th>RET_14</th>\n",
       "      <th>RET_15</th>\n",
       "      <th>RET_16</th>\n",
       "      <th>RET_17</th>\n",
       "      <th>RET_18</th>\n",
       "      <th>RET_19</th>\n",
       "      <th>RET_20</th>\n",
       "    </tr>\n",
       "    <tr>\n",
       "      <th>ID</th>\n",
       "      <th></th>\n",
       "      <th></th>\n",
       "      <th></th>\n",
       "      <th></th>\n",
       "      <th></th>\n",
       "      <th></th>\n",
       "      <th></th>\n",
       "      <th></th>\n",
       "      <th></th>\n",
       "      <th></th>\n",
       "      <th></th>\n",
       "      <th></th>\n",
       "      <th></th>\n",
       "      <th></th>\n",
       "      <th></th>\n",
       "      <th></th>\n",
       "      <th></th>\n",
       "      <th></th>\n",
       "      <th></th>\n",
       "      <th></th>\n",
       "    </tr>\n",
       "  </thead>\n",
       "  <tbody>\n",
       "    <tr>\n",
       "      <th>0</th>\n",
       "      <td>-0.015748</td>\n",
       "      <td>-0.015504</td>\n",
       "      <td>0.010972</td>\n",
       "      <td>-0.014672</td>\n",
       "      <td>0.016483</td>\n",
       "      <td>0.014331</td>\n",
       "      <td>-0.017215</td>\n",
       "      <td>-0.018433</td>\n",
       "      <td>0.134146</td>\n",
       "      <td>0.182287</td>\n",
       "      <td>0.01357</td>\n",
       "      <td>0.030108</td>\n",
       "      <td>0.027624</td>\n",
       "      <td>-0.04937</td>\n",
       "      <td>-0.028571</td>\n",
       "      <td>0.059459</td>\n",
       "      <td>0.003254</td>\n",
       "      <td>0.008752</td>\n",
       "      <td>-0.012959</td>\n",
       "      <td>-0.002155</td>\n",
       "    </tr>\n",
       "  </tbody>\n",
       "</table>\n",
       "</div>"
      ],
      "text/plain": [
       "       RET_1     RET_2     RET_3     RET_4     RET_5     RET_6     RET_7  \\\n",
       "ID                                                                         \n",
       "0  -0.015748 -0.015504  0.010972 -0.014672  0.016483  0.014331 -0.017215   \n",
       "\n",
       "       RET_8     RET_9    RET_10   RET_11    RET_12    RET_13   RET_14  \\\n",
       "ID                                                                       \n",
       "0  -0.018433  0.134146  0.182287  0.01357  0.030108  0.027624 -0.04937   \n",
       "\n",
       "      RET_15    RET_16    RET_17    RET_18    RET_19    RET_20  \n",
       "ID                                                              \n",
       "0  -0.028571  0.059459  0.003254  0.008752 -0.012959 -0.002155  "
      ]
     },
     "execution_count": 7,
     "metadata": {},
     "output_type": "execute_result"
    }
   ],
   "source": [
    "series.head()"
   ]
  },
  {
   "cell_type": "code",
   "execution_count": 121,
   "id": "fbf0aff4-567d-4ab9-9545-1c23354e15c1",
   "metadata": {},
   "outputs": [],
   "source": [
    "order = 10\n",
    "#signal = series.values[0,-order:]\n",
    "signal = series.values[0,:]\n",
    "mu = np.mean(signal)\n",
    "np.random.seed(10219321)\n",
    "sigma = np.std(signal)\n",
    "eps = signal - sigma\n",
    "rng = np.random.default_rng(seed=42)\n",
    "theta = rng.random(size=order)*0.1\n",
    "params = [mu,*theta,sigma]"
   ]
  },
  {
   "cell_type": "code",
   "execution_count": 122,
   "id": "61759011-2301-4c36-b29a-7a9dfcd2b4a5",
   "metadata": {},
   "outputs": [
    {
     "data": {
      "text/plain": [
       "-30.25732611743676"
      ]
     },
     "execution_count": 122,
     "metadata": {},
     "output_type": "execute_result"
    }
   ],
   "source": [
    "ma_neg_log_likelihood(params,signal,order)"
   ]
  },
  {
   "cell_type": "code",
   "execution_count": 123,
   "id": "82d264b0-ed2e-4b2c-88e2-ba9a46c278a3",
   "metadata": {},
   "outputs": [
    {
     "name": "stdout",
     "output_type": "stream",
     "text": [
      "[0.016318   0.0773956  0.04388784 0.08585979 0.0697368  0.00941773\n",
      " 0.09756224 0.07611397 0.07860643 0.01281136 0.04503859 0.05326248]\n"
     ]
    }
   ],
   "source": [
    "mu, theta, sigma = fit_ma_model(signal,order)"
   ]
  },
  {
   "cell_type": "code",
   "execution_count": 124,
   "id": "79c7b3ae-420c-41ca-99fe-d01b20d65571",
   "metadata": {},
   "outputs": [
    {
     "data": {
      "text/plain": [
       "[<matplotlib.lines.Line2D at 0x13bd2add0>]"
      ]
     },
     "execution_count": 124,
     "metadata": {},
     "output_type": "execute_result"
    },
    {
     "data": {
      "image/png": "[encoded data removed]",
      "text/plain": [
       "<Figure size 640x480 with 1 Axes>"
      ]
     },
     "metadata": {},
     "output_type": "display_data"
    }
   ],
   "source": [
    "fig, ax = plt.subplots()\n",
    "ax.plot(signal)\n",
    "ax.plot(MA(signal, mu, theta, order),'--')"
   ]
  },
  {
   "cell_type": "code",
   "execution_count": 115,
   "id": "c525e946-c3e6-4901-811b-a6ecd6b506ed",
   "metadata": {},
   "outputs": [
    {
     "data": {
      "text/plain": [
       "array([-0.39846293, -0.88168029, -1.63286054, -1.0555211 , -0.95282548])"
      ]
     },
     "execution_count": 115,
     "metadata": {},
     "output_type": "execute_result"
    }
   ],
   "source": [
    "theta"
   ]
  },
  {
   "cell_type": "code",
   "execution_count": 116,
   "id": "8666c9b0-c12f-44a4-8017-b869d9e0b520",
   "metadata": {},
   "outputs": [
    {
     "data": {
      "text/plain": [
       "array([-1.0555211 , -1.63286054, -0.88168029])"
      ]
     },
     "execution_count": 116,
     "metadata": {},
     "output_type": "execute_result"
    }
   ],
   "source": [
    "theta[1:-1][::-1]"
   ]
  },
  {
   "cell_type": "code",
   "execution_count": 131,
   "id": "9d0440a9-bce0-4524-bf76-83d9d53fc551",
   "metadata": {},
   "outputs": [
    {
     "data": {
      "text/plain": [
       "0.05463215863316775"
      ]
     },
     "execution_count": 131,
     "metadata": {},
     "output_type": "execute_result"
    }
   ],
   "source": [
    "mu + np.dot(theta,signal[-order:])"
   ]
  },
  {
   "cell_type": "code",
   "execution_count": 129,
   "id": "d8ff95eb-2788-46f5-b6ea-f0d5dcbd2e17",
   "metadata": {},
   "outputs": [
    {
     "data": {
      "text/html": [
       "<div>\n",
       "<style scoped>\n",
       "    .dataframe tbody tr th:only-of-type {\n",
       "        vertical-align: middle;\n",
       "    }\n",
       "\n",
       "    .dataframe tbody tr th {\n",
       "        vertical-align: top;\n",
       "    }\n",
       "\n",
       "    .dataframe thead th {\n",
       "        text-align: right;\n",
       "    }\n",
       "</style>\n",
       "<table border=\"1\" class=\"dataframe\">\n",
       "  <thead>\n",
       "    <tr style=\"text-align: right;\">\n",
       "      <th></th>\n",
       "      <th>RET</th>\n",
       "    </tr>\n",
       "    <tr>\n",
       "      <th>ID</th>\n",
       "      <th></th>\n",
       "    </tr>\n",
       "  </thead>\n",
       "  <tbody>\n",
       "    <tr>\n",
       "      <th>0</th>\n",
       "      <td>True</td>\n",
       "    </tr>\n",
       "    <tr>\n",
       "      <th>1</th>\n",
       "      <td>True</td>\n",
       "    </tr>\n",
       "    <tr>\n",
       "      <th>2</th>\n",
       "      <td>False</td>\n",
       "    </tr>\n",
       "    <tr>\n",
       "      <th>3</th>\n",
       "      <td>False</td>\n",
       "    </tr>\n",
       "    <tr>\n",
       "      <th>4</th>\n",
       "      <td>False</td>\n",
       "    </tr>\n",
       "    <tr>\n",
       "      <th>...</th>\n",
       "      <td>...</td>\n",
       "    </tr>\n",
       "    <tr>\n",
       "      <th>418590</th>\n",
       "      <td>False</td>\n",
       "    </tr>\n",
       "    <tr>\n",
       "      <th>418591</th>\n",
       "      <td>False</td>\n",
       "    </tr>\n",
       "    <tr>\n",
       "      <th>418592</th>\n",
       "      <td>True</td>\n",
       "    </tr>\n",
       "    <tr>\n",
       "      <th>418593</th>\n",
       "      <td>True</td>\n",
       "    </tr>\n",
       "    <tr>\n",
       "      <th>418594</th>\n",
       "      <td>False</td>\n",
       "    </tr>\n",
       "  </tbody>\n",
       "</table>\n",
       "<p>418595 rows × 1 columns</p>\n",
       "</div>"
      ],
      "text/plain": [
       "          RET\n",
       "ID           \n",
       "0        True\n",
       "1        True\n",
       "2       False\n",
       "3       False\n",
       "4       False\n",
       "...       ...\n",
       "418590  False\n",
       "418591  False\n",
       "418592   True\n",
       "418593   True\n",
       "418594  False\n",
       "\n",
       "[418595 rows x 1 columns]"
      ]
     },
     "execution_count": 129,
     "metadata": {},
     "output_type": "execute_result"
    }
   ],
   "source": [
    "y_train"
   ]
  },
  {
   "cell_type": "code",
   "execution_count": null,
   "id": "8dd94fc3-6fd5-4de6-bb3c-72360fcc0e50",
   "metadata": {},
   "outputs": [],
   "source": []
  }
 ],
 "metadata": {
  "kernelspec": {
   "display_name": "Python 3 (ipykernel)",
   "language": "python",
   "name": "python3"
  },
  "language_info": {
   "codemirror_mode": {
    "name": "ipython",
    "version": 3
   },
   "file_extension": ".py",
   "mimetype": "text/x-python",
   "name": "python",
   "nbconvert_exporter": "python",
   "pygments_lexer": "ipython3",
   "version": "3.11.7"
  }
 },
 "nbformat": 4,
 "nbformat_minor": 5
}
