{
 "cells": [
  {
   "cell_type": "code",
   "execution_count": 56,
   "id": "f25be886-f88d-4863-9b67-f56234530ea3",
   "metadata": {},
   "outputs": [],
   "source": [
    "import seaborn as sns\n",
    "import numpy as np\n",
    "import pandas as pd\n",
    "import matplotlib.pyplot as plt"
   ]
  },
  {
   "cell_type": "code",
   "execution_count": 57,
   "id": "628ed969-61b4-4a04-93a4-923453c46e13",
   "metadata": {},
   "outputs": [],
   "source": [
    "def MA(mu, theta, eps, order):\n",
    "    T = len(eps)\n",
    "\n",
    "    res = np.zeros(T)\n",
    "\n",
    "    for t in range(T):\n",
    "        if t < order:\n",
    "            res[t] = mu + eps[t]\n",
    "        else:\n",
    "            res[t] = mu + eps[t] + np.dot(theta,eps[t-order:t])\n",
    "    return res"
   ]
  },
  {
   "cell_type": "code",
   "execution_count": 52,
   "id": "37378c6c-660b-47cb-b1f7-88321501a9be",
   "metadata": {},
   "outputs": [],
   "source": [
    "def ma_neg_log_likelihood(params, X, order):\n",
    "    mu = params[0]\n",
    "    theta = params[1:order+1]\n",
    "    sigma2 = params[-1]**2\n",
    "\n",
    "    T = len(X)\n",
    "    eps = np.zeros(T)\n",
    "    \n",
    "    for t in range(T):\n",
    "        if t < order:\n",
    "            eps[t] = X[t] - mu\n",
    "        else:\n",
    "            eps[t] = X[t] - mu - np.dot(theta,eps[t-order:t])\n",
    "        \n",
    "    nll = T/2*np.log(2*np.pi*sigma2) + 1/2/sigma2*np.sum(eps**2)\n",
    "\n",
    "    return nll"
   ]
  },
  {
   "cell_type": "code",
   "execution_count": 2,
   "id": "d2332a33-5be8-4d37-805b-4426bb0af273",
   "metadata": {},
   "outputs": [],
   "source": [
    "x_train = pd.read_csv('./x_train.csv', index_col='ID')\n",
    "y_train = pd.read_csv('./y_train.csv', index_col='ID')\n",
    "train = pd.concat([x_train, y_train], axis=1).dropna()\n",
    "test = pd.read_csv('./x_test.csv', index_col='ID').dropna()"
   ]
  },
  {
   "cell_type": "code",
   "execution_count": 19,
   "id": "553b37ad-df9a-4c35-bd1f-2a878e7ea287",
   "metadata": {},
   "outputs": [],
   "source": [
    "series = x_train[x_train['DATE']==0]\n",
    "series = series[series['STOCK']==2]\n",
    "cols_idx = ['RET_%i' % i for i in range(1,21)]\n",
    "series = series[cols_idx]"
   ]
  },
  {
   "cell_type": "code",
   "execution_count": 21,
   "id": "d99c723b-9d9b-4d72-a004-73b0b26d05ea",
   "metadata": {},
   "outputs": [
    {
     "data": {
      "text/html": [
       "<div>\n",
       "<style scoped>\n",
       "    .dataframe tbody tr th:only-of-type {\n",
       "        vertical-align: middle;\n",
       "    }\n",
       "\n",
       "    .dataframe tbody tr th {\n",
       "        vertical-align: top;\n",
       "    }\n",
       "\n",
       "    .dataframe thead th {\n",
       "        text-align: right;\n",
       "    }\n",
       "</style>\n",
       "<table border=\"1\" class=\"dataframe\">\n",
       "  <thead>\n",
       "    <tr style=\"text-align: right;\">\n",
       "      <th></th>\n",
       "      <th>RET_1</th>\n",
       "      <th>RET_2</th>\n",
       "      <th>RET_3</th>\n",
       "      <th>RET_4</th>\n",
       "      <th>RET_5</th>\n",
       "      <th>RET_6</th>\n",
       "      <th>RET_7</th>\n",
       "      <th>RET_8</th>\n",
       "      <th>RET_9</th>\n",
       "      <th>RET_10</th>\n",
       "      <th>RET_11</th>\n",
       "      <th>RET_12</th>\n",
       "      <th>RET_13</th>\n",
       "      <th>RET_14</th>\n",
       "      <th>RET_15</th>\n",
       "      <th>RET_16</th>\n",
       "      <th>RET_17</th>\n",
       "      <th>RET_18</th>\n",
       "      <th>RET_19</th>\n",
       "      <th>RET_20</th>\n",
       "    </tr>\n",
       "    <tr>\n",
       "      <th>ID</th>\n",
       "      <th></th>\n",
       "      <th></th>\n",
       "      <th></th>\n",
       "      <th></th>\n",
       "      <th></th>\n",
       "      <th></th>\n",
       "      <th></th>\n",
       "      <th></th>\n",
       "      <th></th>\n",
       "      <th></th>\n",
       "      <th></th>\n",
       "      <th></th>\n",
       "      <th></th>\n",
       "      <th></th>\n",
       "      <th></th>\n",
       "      <th></th>\n",
       "      <th></th>\n",
       "      <th></th>\n",
       "      <th></th>\n",
       "      <th></th>\n",
       "    </tr>\n",
       "  </thead>\n",
       "  <tbody>\n",
       "    <tr>\n",
       "      <th>0</th>\n",
       "      <td>-0.015748</td>\n",
       "      <td>-0.015504</td>\n",
       "      <td>0.010972</td>\n",
       "      <td>-0.014672</td>\n",
       "      <td>0.016483</td>\n",
       "      <td>0.014331</td>\n",
       "      <td>-0.017215</td>\n",
       "      <td>-0.018433</td>\n",
       "      <td>0.134146</td>\n",
       "      <td>0.182287</td>\n",
       "      <td>0.01357</td>\n",
       "      <td>0.030108</td>\n",
       "      <td>0.027624</td>\n",
       "      <td>-0.04937</td>\n",
       "      <td>-0.028571</td>\n",
       "      <td>0.059459</td>\n",
       "      <td>0.003254</td>\n",
       "      <td>0.008752</td>\n",
       "      <td>-0.012959</td>\n",
       "      <td>-0.002155</td>\n",
       "    </tr>\n",
       "  </tbody>\n",
       "</table>\n",
       "</div>"
      ],
      "text/plain": [
       "       RET_1     RET_2     RET_3     RET_4     RET_5     RET_6     RET_7  \\\n",
       "ID                                                                         \n",
       "0  -0.015748 -0.015504  0.010972 -0.014672  0.016483  0.014331 -0.017215   \n",
       "\n",
       "       RET_8     RET_9    RET_10   RET_11    RET_12    RET_13   RET_14  \\\n",
       "ID                                                                       \n",
       "0  -0.018433  0.134146  0.182287  0.01357  0.030108  0.027624 -0.04937   \n",
       "\n",
       "      RET_15    RET_16    RET_17    RET_18    RET_19    RET_20  \n",
       "ID                                                              \n",
       "0  -0.028571  0.059459  0.003254  0.008752 -0.012959 -0.002155  "
      ]
     },
     "execution_count": 21,
     "metadata": {},
     "output_type": "execute_result"
    }
   ],
   "source": [
    "series.head()"
   ]
  },
  {
   "cell_type": "code",
   "execution_count": 54,
   "id": "fbf0aff4-567d-4ab9-9545-1c23354e15c1",
   "metadata": {},
   "outputs": [],
   "source": [
    "order = 5\n",
    "signal = series.values[0,-order:]\n",
    "mu = np.mean(signal)\n",
    "sigma = np.std(signal)\n",
    "theta = np.random.rand(order)\n",
    "params = [mu,theta,sigma]"
   ]
  },
  {
   "cell_type": "code",
   "execution_count": 55,
   "id": "61759011-2301-4c36-b29a-7a9dfcd2b4a5",
   "metadata": {},
   "outputs": [
    {
     "data": {
      "text/plain": [
       "-11.321773296347395"
      ]
     },
     "execution_count": 55,
     "metadata": {},
     "output_type": "execute_result"
    }
   ],
   "source": [
    "ma_neg_log_likelihood(params,signal,order)"
   ]
  },
  {
   "cell_type": "code",
   "execution_count": 58,
   "id": "a456ec1c-7749-4ada-8b63-9d202c57c285",
   "metadata": {},
   "outputs": [
    {
     "ename": "TypeError",
     "evalue": "object of type 'numpy.float64' has no len()",
     "output_type": "error",
     "traceback": [
      "\u001b[0;31m---------------------------------------------------------------------------\u001b[0m",
      "\u001b[0;31mTypeError\u001b[0m                                 Traceback (most recent call last)",
      "Cell \u001b[0;32mIn[58], line 3\u001b[0m\n\u001b[1;32m      1\u001b[0m fig, ax \u001b[38;5;241m=\u001b[39m plt\u001b[38;5;241m.\u001b[39msubplots()\n\u001b[1;32m      2\u001b[0m ax\u001b[38;5;241m.\u001b[39mplot(signal)\n\u001b[0;32m----> 3\u001b[0m ax\u001b[38;5;241m.\u001b[39mplot(MA(mu, theta, sigma, order))\n",
      "Cell \u001b[0;32mIn[57], line 2\u001b[0m, in \u001b[0;36mMA\u001b[0;34m(mu, theta, eps, order)\u001b[0m\n\u001b[1;32m      1\u001b[0m \u001b[38;5;28;01mdef\u001b[39;00m \u001b[38;5;21mMA\u001b[39m(mu, theta, eps, order):\n\u001b[0;32m----> 2\u001b[0m     T \u001b[38;5;241m=\u001b[39m \u001b[38;5;28mlen\u001b[39m(eps)\n\u001b[1;32m      4\u001b[0m     res \u001b[38;5;241m=\u001b[39m np\u001b[38;5;241m.\u001b[39mzeros(T)\n\u001b[1;32m      6\u001b[0m     \u001b[38;5;28;01mfor\u001b[39;00m t \u001b[38;5;129;01min\u001b[39;00m \u001b[38;5;28mrange\u001b[39m(T):\n",
      "\u001b[0;31mTypeError\u001b[0m: object of type 'numpy.float64' has no len()"
     ]
    },
    {
     "data": {
      "image/png": "[encoded data removed]",
      "text/plain": [
       "<Figure size 640x480 with 1 Axes>"
      ]
     },
     "metadata": {},
     "output_type": "display_data"
    }
   ],
   "source": [
    "fig, ax = plt.subplots()\n",
    "ax.plot(signal)\n",
    "ax.plot(MA(mu, theta, sigma, order))"
   ]
  },
  {
   "cell_type": "code",
   "execution_count": null,
   "id": "fffd1b33-a013-4bfe-948c-220a7fcf4c00",
   "metadata": {},
   "outputs": [],
   "source": []
  }
 ],
 "metadata": {
  "kernelspec": {
   "display_name": "Python 3 (ipykernel)",
   "language": "python",
   "name": "python3"
  },
  "language_info": {
   "codemirror_mode": {
    "name": "ipython",
    "version": 3
   },
   "file_extension": ".py",
   "mimetype": "text/x-python",
   "name": "python",
   "nbconvert_exporter": "python",
   "pygments_lexer": "ipython3",
   "version": "3.11.7"
  }
 },
 "nbformat": 4,
 "nbformat_minor": 5
}
