{
 "cells": [
  {
   "cell_type": "code",
   "execution_count": 11,
   "id": "d840664f-4fb1-43ff-b332-9eeeddb4ecd2",
   "metadata": {},
   "outputs": [],
   "source": [
    "import numpy as np\n",
    "import pandas as pd\n",
    "from statsmodels.tsa.arima.model import ARIMA\n",
    "from tqdm import tqdm\n",
    "import warnings\n",
    "warnings.filterwarnings(\"ignore\")"
   ]
  },
  {
   "cell_type": "code",
   "execution_count": 8,
   "id": "405e137e-2253-473c-a1c2-dbef54823e1e",
   "metadata": {},
   "outputs": [],
   "source": [
    "x_train = pd.read_csv('./x_train.csv', index_col='ID')\n",
    "y_train = pd.read_csv('./y_train.csv', index_col='ID')\n",
    "train = pd.concat([x_train, y_train], axis=1).dropna()\n",
    "test = pd.read_csv('./x_test.csv', index_col='ID').dropna()"
   ]
  },
  {
   "cell_type": "code",
   "execution_count": 73,
   "id": "00556742-6a2a-4c9b-b84a-f8f4035855b1",
   "metadata": {},
   "outputs": [],
   "source": [
    "ret_cols = [col for col in x_train.columns if 'RET' in col]\n",
    "\n",
    "\n",
    "total_size = len(train['DATE'].unique())\n",
    "#models = {}\n",
    "\n",
    "model_order = (5, 0, 5)  # ARMA(1,1) model\n"
   ]
  },
  {
   "cell_type": "code",
   "execution_count": null,
   "id": "6a0d6ac5-6bca-4dbc-8742-6280387806c4",
   "metadata": {},
   "outputs": [
    {
     "name": "stderr",
     "output_type": "stream",
     "text": [
      " 86%|██████████████████████████████▎    | 134/155 [11:56:18<1:53:40, 324.79s/it]"
     ]
    }
   ],
   "source": [
    "idx = 0\n",
    "prediction=[]\n",
    "for date, idx in zip(train['DATE'],tqdm(range(total_size))):\n",
    "    for stock in train[train['DATE']==date]['STOCK']:\n",
    "        #print(date,stock)\n",
    "        stock_data = train[train['DATE']==date][train['STOCK']==stock][ret_cols].values[0]\n",
    "        \n",
    "        model = ARIMA(stock_data, order=model_order)\n",
    "        model_fit = model.fit()\n",
    "        prediction+=[model_fit.forecast(1)]\n",
    "        #models[idx] = model_fit"
   ]
  },
  {
   "cell_type": "code",
   "execution_count": 72,
   "id": "a9a9c7dc-38c6-4735-9653-bbab71c0216b",
   "metadata": {},
   "outputs": [
    {
     "data": {
      "text/plain": [
       "array([0.016257])"
      ]
     },
     "execution_count": 72,
     "metadata": {},
     "output_type": "execute_result"
    }
   ],
   "source": [
    "models[10].forecast(1)"
   ]
  },
  {
   "cell_type": "code",
   "execution_count": 35,
   "id": "758c907a-94e2-4ff6-9ac6-63ce09e1a26d",
   "metadata": {},
   "outputs": [
    {
     "data": {
      "text/html": [
       "<div>\n",
       "<style scoped>\n",
       "    .dataframe tbody tr th:only-of-type {\n",
       "        vertical-align: middle;\n",
       "    }\n",
       "\n",
       "    .dataframe tbody tr th {\n",
       "        vertical-align: top;\n",
       "    }\n",
       "\n",
       "    .dataframe thead th {\n",
       "        text-align: right;\n",
       "    }\n",
       "</style>\n",
       "<table border=\"1\" class=\"dataframe\">\n",
       "  <thead>\n",
       "    <tr style=\"text-align: right;\">\n",
       "      <th></th>\n",
       "      <th>RET_1</th>\n",
       "      <th>RET_2</th>\n",
       "      <th>RET_3</th>\n",
       "      <th>RET_4</th>\n",
       "      <th>RET_5</th>\n",
       "      <th>RET_6</th>\n",
       "      <th>RET_7</th>\n",
       "      <th>RET_8</th>\n",
       "      <th>RET_9</th>\n",
       "      <th>RET_10</th>\n",
       "      <th>RET_11</th>\n",
       "      <th>RET_12</th>\n",
       "      <th>RET_13</th>\n",
       "      <th>RET_14</th>\n",
       "      <th>RET_15</th>\n",
       "      <th>RET_16</th>\n",
       "      <th>RET_17</th>\n",
       "      <th>RET_18</th>\n",
       "      <th>RET_19</th>\n",
       "      <th>RET_20</th>\n",
       "    </tr>\n",
       "    <tr>\n",
       "      <th>DATE</th>\n",
       "      <th></th>\n",
       "      <th></th>\n",
       "      <th></th>\n",
       "      <th></th>\n",
       "      <th></th>\n",
       "      <th></th>\n",
       "      <th></th>\n",
       "      <th></th>\n",
       "      <th></th>\n",
       "      <th></th>\n",
       "      <th></th>\n",
       "      <th></th>\n",
       "      <th></th>\n",
       "      <th></th>\n",
       "      <th></th>\n",
       "      <th></th>\n",
       "      <th></th>\n",
       "      <th></th>\n",
       "      <th></th>\n",
       "      <th></th>\n",
       "    </tr>\n",
       "  </thead>\n",
       "  <tbody>\n",
       "    <tr>\n",
       "      <th>21</th>\n",
       "      <td>0.005376</td>\n",
       "      <td>-0.005348</td>\n",
       "      <td>-0.005319</td>\n",
       "      <td>-0.010526</td>\n",
       "      <td>-0.020619</td>\n",
       "      <td>0.015707</td>\n",
       "      <td>-0.030457</td>\n",
       "      <td>-0.005051</td>\n",
       "      <td>-0.029412</td>\n",
       "      <td>0.004926</td>\n",
       "      <td>0.000000</td>\n",
       "      <td>-0.004902</td>\n",
       "      <td>-0.019231</td>\n",
       "      <td>0.024631</td>\n",
       "      <td>-0.004902</td>\n",
       "      <td>0.009901</td>\n",
       "      <td>-0.019417</td>\n",
       "      <td>0.004878</td>\n",
       "      <td>0.000000</td>\n",
       "      <td>0.014851</td>\n",
       "    </tr>\n",
       "    <tr>\n",
       "      <th>28</th>\n",
       "      <td>0.005747</td>\n",
       "      <td>0.023529</td>\n",
       "      <td>-0.022989</td>\n",
       "      <td>-0.016949</td>\n",
       "      <td>-0.011173</td>\n",
       "      <td>-0.005556</td>\n",
       "      <td>-0.037433</td>\n",
       "      <td>-0.020942</td>\n",
       "      <td>-0.045000</td>\n",
       "      <td>-0.004975</td>\n",
       "      <td>0.005000</td>\n",
       "      <td>0.020408</td>\n",
       "      <td>0.015544</td>\n",
       "      <td>0.015789</td>\n",
       "      <td>0.005291</td>\n",
       "      <td>-0.030769</td>\n",
       "      <td>0.015625</td>\n",
       "      <td>0.005236</td>\n",
       "      <td>0.026882</td>\n",
       "      <td>-0.005348</td>\n",
       "    </tr>\n",
       "    <tr>\n",
       "      <th>65</th>\n",
       "      <td>0.038251</td>\n",
       "      <td>-0.010811</td>\n",
       "      <td>-0.015957</td>\n",
       "      <td>0.005348</td>\n",
       "      <td>-0.015789</td>\n",
       "      <td>0.016043</td>\n",
       "      <td>0.016304</td>\n",
       "      <td>0.000000</td>\n",
       "      <td>0.000000</td>\n",
       "      <td>-0.016043</td>\n",
       "      <td>0.005376</td>\n",
       "      <td>-0.010638</td>\n",
       "      <td>-0.050505</td>\n",
       "      <td>0.015385</td>\n",
       "      <td>-0.020101</td>\n",
       "      <td>-0.024510</td>\n",
       "      <td>0.079365</td>\n",
       "      <td>0.027174</td>\n",
       "      <td>0.010989</td>\n",
       "      <td>-0.016216</td>\n",
       "    </tr>\n",
       "    <tr>\n",
       "      <th>116</th>\n",
       "      <td>0.009709</td>\n",
       "      <td>0.014778</td>\n",
       "      <td>-0.009756</td>\n",
       "      <td>-0.014423</td>\n",
       "      <td>-0.009524</td>\n",
       "      <td>0.039604</td>\n",
       "      <td>0.000000</td>\n",
       "      <td>0.015075</td>\n",
       "      <td>0.010152</td>\n",
       "      <td>-0.005051</td>\n",
       "      <td>-0.010000</td>\n",
       "      <td>0.030928</td>\n",
       "      <td>-0.020202</td>\n",
       "      <td>0.005076</td>\n",
       "      <td>0.020725</td>\n",
       "      <td>0.015789</td>\n",
       "      <td>0.010638</td>\n",
       "      <td>-0.010526</td>\n",
       "      <td>0.005291</td>\n",
       "      <td>0.005319</td>\n",
       "    </tr>\n",
       "    <tr>\n",
       "      <th>143</th>\n",
       "      <td>-0.019608</td>\n",
       "      <td>-0.043750</td>\n",
       "      <td>-0.075145</td>\n",
       "      <td>0.000000</td>\n",
       "      <td>-0.022599</td>\n",
       "      <td>-0.005618</td>\n",
       "      <td>-0.037838</td>\n",
       "      <td>0.010929</td>\n",
       "      <td>0.011050</td>\n",
       "      <td>-0.010929</td>\n",
       "      <td>0.022346</td>\n",
       "      <td>-0.016484</td>\n",
       "      <td>-0.005464</td>\n",
       "      <td>0.016667</td>\n",
       "      <td>-0.032258</td>\n",
       "      <td>0.005405</td>\n",
       "      <td>-0.041451</td>\n",
       "      <td>0.000000</td>\n",
       "      <td>-0.035000</td>\n",
       "      <td>0.058201</td>\n",
       "    </tr>\n",
       "    <tr>\n",
       "      <th>211</th>\n",
       "      <td>0.016667</td>\n",
       "      <td>0.000000</td>\n",
       "      <td>0.022727</td>\n",
       "      <td>-0.011236</td>\n",
       "      <td>0.000000</td>\n",
       "      <td>0.053254</td>\n",
       "      <td>-0.091398</td>\n",
       "      <td>0.010870</td>\n",
       "      <td>0.121951</td>\n",
       "      <td>0.058065</td>\n",
       "      <td>-0.012739</td>\n",
       "      <td>-0.012579</td>\n",
       "      <td>0.000000</td>\n",
       "      <td>0.000000</td>\n",
       "      <td>-0.024540</td>\n",
       "      <td>0.000000</td>\n",
       "      <td>-0.018072</td>\n",
       "      <td>0.037500</td>\n",
       "      <td>0.032258</td>\n",
       "      <td>0.000000</td>\n",
       "    </tr>\n",
       "  </tbody>\n",
       "</table>\n",
       "</div>"
      ],
      "text/plain": [
       "         RET_1     RET_2     RET_3     RET_4     RET_5     RET_6     RET_7  \\\n",
       "DATE                                                                         \n",
       "21    0.005376 -0.005348 -0.005319 -0.010526 -0.020619  0.015707 -0.030457   \n",
       "28    0.005747  0.023529 -0.022989 -0.016949 -0.011173 -0.005556 -0.037433   \n",
       "65    0.038251 -0.010811 -0.015957  0.005348 -0.015789  0.016043  0.016304   \n",
       "116   0.009709  0.014778 -0.009756 -0.014423 -0.009524  0.039604  0.000000   \n",
       "143  -0.019608 -0.043750 -0.075145  0.000000 -0.022599 -0.005618 -0.037838   \n",
       "211   0.016667  0.000000  0.022727 -0.011236  0.000000  0.053254 -0.091398   \n",
       "\n",
       "         RET_8     RET_9    RET_10    RET_11    RET_12    RET_13    RET_14  \\\n",
       "DATE                                                                         \n",
       "21   -0.005051 -0.029412  0.004926  0.000000 -0.004902 -0.019231  0.024631   \n",
       "28   -0.020942 -0.045000 -0.004975  0.005000  0.020408  0.015544  0.015789   \n",
       "65    0.000000  0.000000 -0.016043  0.005376 -0.010638 -0.050505  0.015385   \n",
       "116   0.015075  0.010152 -0.005051 -0.010000  0.030928 -0.020202  0.005076   \n",
       "143   0.010929  0.011050 -0.010929  0.022346 -0.016484 -0.005464  0.016667   \n",
       "211   0.010870  0.121951  0.058065 -0.012739 -0.012579  0.000000  0.000000   \n",
       "\n",
       "        RET_15    RET_16    RET_17    RET_18    RET_19    RET_20  \n",
       "DATE                                                              \n",
       "21   -0.004902  0.009901 -0.019417  0.004878  0.000000  0.014851  \n",
       "28    0.005291 -0.030769  0.015625  0.005236  0.026882 -0.005348  \n",
       "65   -0.020101 -0.024510  0.079365  0.027174  0.010989 -0.016216  \n",
       "116   0.020725  0.015789  0.010638 -0.010526  0.005291  0.005319  \n",
       "143  -0.032258  0.005405 -0.041451  0.000000 -0.035000  0.058201  \n",
       "211  -0.024540  0.000000 -0.018072  0.037500  0.032258  0.000000  "
      ]
     },
     "execution_count": 35,
     "metadata": {},
     "output_type": "execute_result"
    }
   ],
   "source": [
    "\n",
    "stock_data[ret_cols]"
   ]
  },
  {
   "cell_type": "code",
   "execution_count": 17,
   "id": "d0d4f931-5c9d-4c13-9b28-37fe991e0a7f",
   "metadata": {},
   "outputs": [],
   "source": [
    "feature = 'RET'\n",
    "ret_cols = f'{feature}_4'"
   ]
  },
  {
   "cell_type": "code",
   "execution_count": 18,
   "id": "3f71f323-0a03-4c19-a755-99e6d8028ef4",
   "metadata": {},
   "outputs": [
    {
     "data": {
      "text/plain": [
       "'RET_4'"
      ]
     },
     "execution_count": 18,
     "metadata": {},
     "output_type": "execute_result"
    }
   ],
   "source": [
    "ret_cols"
   ]
  },
  {
   "cell_type": "code",
   "execution_count": 21,
   "id": "0f98592d-0fea-4591-b203-50e488762fa4",
   "metadata": {},
   "outputs": [],
   "source": [
    "model = ARIMA(stock_data, order=model_order)\n",
    "model_fit = model.fit()\n",
    "#prediction+=[model_fit.forecast(1)]"
   ]
  },
  {
   "cell_type": "code",
   "execution_count": 25,
   "id": "1745274c-edea-4246-a9f5-9f16c01c3477",
   "metadata": {},
   "outputs": [
    {
     "data": {
      "text/plain": [
       "0.003485485103132162"
      ]
     },
     "execution_count": 25,
     "metadata": {},
     "output_type": "execute_result"
    }
   ],
   "source": [
    "len(prediction)/total_size"
   ]
  },
  {
   "cell_type": "code",
   "execution_count": 40,
   "id": "37aa11d6-d5f6-4c0d-85ae-e079a4e6ec88",
   "metadata": {},
   "outputs": [],
   "source": [
    "res = y_train.copy\n",
    "#res.values = "
   ]
  },
  {
   "cell_type": "code",
   "execution_count": 47,
   "id": "192ab048-eeda-4d32-a90a-e470ac83c4a2",
   "metadata": {},
   "outputs": [],
   "source": [
    "pred = np.array(prediction)>0"
   ]
  },
  {
   "cell_type": "code",
   "execution_count": 72,
   "id": "5559bda5-4e95-43fa-a991-723ddb295195",
   "metadata": {},
   "outputs": [
    {
     "name": "stdout",
     "output_type": "stream",
     "text": [
      "0.4995256166982922\n"
     ]
    }
   ],
   "source": [
    "count = 0\n",
    "for jj in range(len(pred)):\n",
    "    if pred[jj][0] == y_train.values[jj]:\n",
    "        count+=1\n",
    "print(count/len(pred))"
   ]
  },
  {
   "cell_type": "markdown",
   "id": "78e4c810-4284-4f33-a65b-ed73a6cd1541",
   "metadata": {},
   "source": [
    "With (1,0,1) ARIMA model, I got 49.95% accuracy and it took 4 hours to get there."
   ]
  },
  {
   "cell_type": "code",
   "execution_count": null,
   "id": "e58f6052-ee2b-4b3d-a6a9-110a5d409eb5",
   "metadata": {},
   "outputs": [],
   "source": []
  }
 ],
 "metadata": {
  "kernelspec": {
   "display_name": "Python 3 (ipykernel)",
   "language": "python",
   "name": "python3"
  },
  "language_info": {
   "codemirror_mode": {
    "name": "ipython",
    "version": 3
   },
   "file_extension": ".py",
   "mimetype": "text/x-python",
   "name": "python",
   "nbconvert_exporter": "python",
   "pygments_lexer": "ipython3",
   "version": "3.11.7"
  }
 },
 "nbformat": 4,
 "nbformat_minor": 5
}
