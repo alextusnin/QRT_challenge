{
 "cells": [
  {
   "cell_type": "code",
   "execution_count": 16,
   "id": "1d24c9a5-14b8-4947-8405-6d59a76700a1",
   "metadata": {},
   "outputs": [],
   "source": [
    "import numpy as np\n",
    "import pandas as pd\n",
    "from statsmodels.tsa.arima.model import ARIMA\n",
    "#from statsmodels.tsa.statespace.sarimax import SARIMAX\n",
    "from tqdm import tqdm\n",
    "import warnings\n",
    "warnings.filterwarnings(\"ignore\")"
   ]
  },
  {
   "cell_type": "code",
   "execution_count": 36,
   "id": "9b51e6a3-e60a-4af7-8d4b-9907695f192d",
   "metadata": {},
   "outputs": [],
   "source": [
    "x_train = pd.read_csv('./x_train.csv', index_col='ID').fillna(0)\n",
    "y_train = pd.read_csv('./y_train.csv', index_col='ID').fillna(0)\n",
    "train = pd.concat([x_train, y_train], axis=1).fillna(0)\n",
    "test = pd.read_csv('./x_test.csv', index_col='ID').fillna(0)"
   ]
  },
  {
   "cell_type": "code",
   "execution_count": 96,
   "id": "ca90676e-e96b-4a62-b591-f94b2df47937",
   "metadata": {},
   "outputs": [],
   "source": [
    "ret_cols = [col for col in x_train.columns if 'RET' in col]\n",
    "vol_cols = [col for col in x_train.columns if 'VOLUME' in col]\n",
    "\n",
    "df = x_train#[x_train['DATE']==0]\n",
    "\n",
    "\n",
    "total_size = len(df)\n",
    "#models = {}\n",
    "\n",
    "model_order = (1, 0, 0) "
   ]
  },
  {
   "cell_type": "code",
   "execution_count": 98,
   "id": "0c571469-1862-4c79-ae55-2474d7b8492e",
   "metadata": {},
   "outputs": [
    {
     "name": "stderr",
     "output_type": "stream",
     "text": [
      "100%|█████████████████████████████████| 418595/418595 [7:09:09<00:00, 16.26it/s]\n"
     ]
    }
   ],
   "source": [
    "ii = 0\n",
    "prediction=[]\n",
    "for idx in tqdm(range(total_size)):\n",
    "    stock_data = df[ret_cols].iloc[ii].values\n",
    "    vol_data = df[vol_cols].iloc[ii].values\n",
    "\n",
    "    #norm_ret = (stock_data-np.mean(stock_data))/np.std(stock_data)\n",
    "\n",
    "    #if np.std(vol_data) != 0:\n",
    "    #    norm_vol = (vol_data-np.mean(vol_data))/np.std(vol_data)\n",
    "    #else:\n",
    "    #    norm_vol = vol_data\n",
    "    norm_ret = stock_data\n",
    "    norm_vol = vol_data\n",
    "    \n",
    "    model_ret = ARIMA(norm_ret, order=model_order,exog=norm_vol)\n",
    "    model_vol = ARIMA(norm_vol, order=model_order)\n",
    "        #model_fit = model.fit()\n",
    "        \n",
    "    pred = model_ret.fit().forecast(1,exog=model_vol.fit().forecast(1))\n",
    "\n",
    "    #pred *= np.std(stock_data)\n",
    "    #pred += np.mean(stock_data)\n",
    "        \n",
    "    prediction+=[pred]\n",
    "    ii+=1"
   ]
  },
  {
   "cell_type": "code",
   "execution_count": 99,
   "id": "7e973e43-0932-4514-9e1e-e227c0bf4218",
   "metadata": {},
   "outputs": [],
   "source": [
    "df_test = y_train#[x_train['DATE']==0]"
   ]
  },
  {
   "cell_type": "code",
   "execution_count": 100,
   "id": "727583bc-e96f-48fc-8d56-62e64d93f466",
   "metadata": {},
   "outputs": [
    {
     "name": "stdout",
     "output_type": "stream",
     "text": [
      "49.94923494069447\n"
     ]
    }
   ],
   "source": [
    "acc = 0\n",
    "for jj in range(total_size):\n",
    "    pred = False\n",
    "    if prediction[jj] > 0:\n",
    "        pred = True\n",
    "    else:\n",
    "        pred = False\n",
    "    if df_test.iloc[jj].values[0] == pred:\n",
    "        acc +=1\n",
    "acc/=total_size\n",
    "print(acc*100)"
   ]
  },
  {
   "cell_type": "markdown",
   "id": "ac6e1abc-dafc-4cd8-92b7-09c1e613b2fd",
   "metadata": {},
   "source": [
    "Normalizing volume and returns data, with AR(1) model on DATE=0 dataset, I got 51.956% accuracy\n",
    "\n",
    "Without normalization, I got 52.040%\n",
    "\n",
    "On the full dataset, without normalization 49.949%"
   ]
  },
  {
   "cell_type": "code",
   "execution_count": null,
   "id": "a1c5ccec-5a4e-4f6b-86f8-d19883dfa10d",
   "metadata": {},
   "outputs": [],
   "source": []
  }
 ],
 "metadata": {
  "kernelspec": {
   "display_name": "Python 3 (ipykernel)",
   "language": "python",
   "name": "python3"
  },
  "language_info": {
   "codemirror_mode": {
    "name": "ipython",
    "version": 3
   },
   "file_extension": ".py",
   "mimetype": "text/x-python",
   "name": "python",
   "nbconvert_exporter": "python",
   "pygments_lexer": "ipython3",
   "version": "3.11.7"
  }
 },
 "nbformat": 4,
 "nbformat_minor": 5
}
